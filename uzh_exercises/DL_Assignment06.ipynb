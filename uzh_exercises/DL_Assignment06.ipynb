{
  "cells": [
    {
      "cell_type": "markdown",
      "metadata": {
        "id": "eH27MSc7aQLq"
      },
      "source": [
        "# Assignment 6: Convolutional Networks\n",
        "\n",
        "Before we start, we should assure that we have activated CUDA -- otherwise training might take very long.\n",
        "In Google Colaboratory:\n",
        "\n",
        "1. Check the options Runtime -> Change Runtime Type on top of the page.\n",
        "2. In the popup window, select hardware accelerator GPU.\n",
        "\n",
        "Afterward, the following command should run successfully:"
      ]
    },
    {
      "cell_type": "code",
      "execution_count": 1,
      "metadata": {
        "colab": {
          "base_uri": "https://localhost:8080/"
        },
        "id": "jPstyY7AaQLv",
        "outputId": "6125c297-0f9e-4e5f-c9a3-6561ead742e4"
      },
      "outputs": [
        {
          "output_type": "stream",
          "name": "stdout",
          "text": [
            "Successfully enabled CUDA processing\n"
          ]
        }
      ],
      "source": [
        "import torch\n",
        "if torch.cuda.is_available():\n",
        "  print(\"Successfully enabled CUDA processing\")\n",
        "else:\n",
        "  print(\"CUDA processing not available. Things will be slow :-(\")"
      ]
    },
    {
      "cell_type": "markdown",
      "metadata": {
        "id": "W08ImtCeaQLw"
      },
      "source": [
        "## Dataset\n",
        "\n",
        "In PyTorch, a dataset stores a list of input and target tensors $(X^n, T^n)$.\n",
        "In case of **MNIST** dataset, the inputs are $X^n \\in \\mathbb R^{28\\times28}$ and $T^n \\in \\{0,\\ldots,9\\}$.\n",
        "More precisely, the data in the dataset is provided in form of `PIL.Image.Image`, which represents an image class with some more functionality, and pixel values in range $[0, 255]$.\n",
        "In order to convert these images into `torch.Tensor`'s in range $[0,1]$, we can use the [ToTensor](https://pytorch.org/vision/main/generated/torchvision.transforms.ToTensor.html) transform.\n",
        "Furthermore, in `PyTorch` batches are created from datasets using the [DataLoader](https://pytorch.org/docs/stable/data.html#torch.utils.data.DataLoader) class."
      ]
    },
    {
      "cell_type": "markdown",
      "metadata": {
        "id": "q9s7rhj4iDKu"
      },
      "source": [
        "\n",
        "### Task 1: Dataset Loading\n",
        "\n",
        "\n",
        "Here, we use the [MNIST dataset](https://pytorch.org/vision/main/generated/torchvision.datasets.MNIST.html) of gray images for categorical classification.\n",
        "\n",
        "Write a function that returns the training and the testing set of MNIST, using the given transform."
      ]
    },
    {
      "cell_type": "code",
      "execution_count": 2,
      "metadata": {
        "id": "UdAXKwqUaQLx"
      },
      "outputs": [],
      "source": [
        "import torch\n",
        "import torchvision\n",
        "\n",
        "def datasets(transform):\n",
        "  trainset = torchvision.datasets.MNIST(transform=transform, root=\"./data\", train=True, download=True)\n",
        "  testset = torchvision.datasets.MNIST(transform=transform, root=\"./data\", train=False, download=True)\n",
        "\n",
        "  return trainset, testset"
      ]
    },
    {
      "cell_type": "markdown",
      "metadata": {
        "id": "2Abp751vaQLx"
      },
      "source": [
        "### Test 1: Data Types\n",
        "\n",
        "When we create the dataset with `transform=None`, all inputs shall be of type `PIL.Image.Image`, and all targets are integral."
      ]
    },
    {
      "cell_type": "code",
      "execution_count": 3,
      "metadata": {
        "colab": {
          "base_uri": "https://localhost:8080/"
        },
        "id": "hAMpr6hhaQLx",
        "outputId": "353d4e14-391d-463a-8183-34baeede048b"
      },
      "outputs": [
        {
          "output_type": "stream",
          "name": "stdout",
          "text": [
            "Downloading http://yann.lecun.com/exdb/mnist/train-images-idx3-ubyte.gz\n",
            "Downloading http://yann.lecun.com/exdb/mnist/train-images-idx3-ubyte.gz to ./data/MNIST/raw/train-images-idx3-ubyte.gz\n"
          ]
        },
        {
          "output_type": "stream",
          "name": "stderr",
          "text": [
            "100%|██████████| 9912422/9912422 [00:00<00:00, 429421298.15it/s]"
          ]
        },
        {
          "output_type": "stream",
          "name": "stdout",
          "text": [
            "Extracting ./data/MNIST/raw/train-images-idx3-ubyte.gz to ./data/MNIST/raw\n"
          ]
        },
        {
          "output_type": "stream",
          "name": "stderr",
          "text": [
            "\n"
          ]
        },
        {
          "output_type": "stream",
          "name": "stdout",
          "text": [
            "\n",
            "Downloading http://yann.lecun.com/exdb/mnist/train-labels-idx1-ubyte.gz\n",
            "Downloading http://yann.lecun.com/exdb/mnist/train-labels-idx1-ubyte.gz to ./data/MNIST/raw/train-labels-idx1-ubyte.gz\n"
          ]
        },
        {
          "output_type": "stream",
          "name": "stderr",
          "text": [
            "100%|██████████| 28881/28881 [00:00<00:00, 23082258.73it/s]\n"
          ]
        },
        {
          "output_type": "stream",
          "name": "stdout",
          "text": [
            "Extracting ./data/MNIST/raw/train-labels-idx1-ubyte.gz to ./data/MNIST/raw\n",
            "\n",
            "Downloading http://yann.lecun.com/exdb/mnist/t10k-images-idx3-ubyte.gz\n",
            "Downloading http://yann.lecun.com/exdb/mnist/t10k-images-idx3-ubyte.gz to ./data/MNIST/raw/t10k-images-idx3-ubyte.gz\n"
          ]
        },
        {
          "output_type": "stream",
          "name": "stderr",
          "text": [
            "100%|██████████| 1648877/1648877 [00:00<00:00, 152638358.75it/s]\n"
          ]
        },
        {
          "output_type": "stream",
          "name": "stdout",
          "text": [
            "Extracting ./data/MNIST/raw/t10k-images-idx3-ubyte.gz to ./data/MNIST/raw\n",
            "\n",
            "Downloading http://yann.lecun.com/exdb/mnist/t10k-labels-idx1-ubyte.gz\n",
            "Downloading http://yann.lecun.com/exdb/mnist/t10k-labels-idx1-ubyte.gz to ./data/MNIST/raw/t10k-labels-idx1-ubyte.gz\n"
          ]
        },
        {
          "output_type": "stream",
          "name": "stderr",
          "text": [
            "100%|██████████| 4542/4542 [00:00<00:00, 19360293.46it/s]"
          ]
        },
        {
          "output_type": "stream",
          "name": "stdout",
          "text": [
            "Extracting ./data/MNIST/raw/t10k-labels-idx1-ubyte.gz to ./data/MNIST/raw\n",
            "\n"
          ]
        },
        {
          "output_type": "stream",
          "name": "stderr",
          "text": [
            "\n"
          ]
        }
      ],
      "source": [
        "import PIL\n",
        "trainset, testset = datasets(transform=None)\n",
        "\n",
        "for x,t in trainset:\n",
        "  # check datatype of input x\n",
        "  assert isinstance(x, PIL.Image.Image)\n",
        "  # check datatype of target t\n",
        "  assert isinstance(t, int)"
      ]
    },
    {
      "cell_type": "markdown",
      "metadata": {
        "id": "rEhGkNEdaQLy"
      },
      "source": [
        "### Task 2: Data Loaders\n",
        "\n",
        "\n",
        "Create the dataset with transform `ToTensor`. Create two data loaders, one for the training set and one for the testing set. The training batch size should be $B=64$, for the testing set, you can select any batch size of your choice.\n"
      ]
    },
    {
      "cell_type": "code",
      "execution_count": 4,
      "metadata": {
        "id": "72TgSAmDaQLy"
      },
      "outputs": [],
      "source": [
        "transform = torchvision.transforms.ToTensor()\n",
        "trainset, testset = datasets(transform=transform)\n",
        "\n",
        "B = 64\n",
        "trainloader = torch.utils.data.DataLoader(trainset, shuffle=True, batch_size=B)\n",
        "testloader = torch.utils.data.DataLoader(trainset, shuffle=False, batch_size=100)"
      ]
    },
    {
      "cell_type": "markdown",
      "metadata": {
        "id": "_VmIeKXQaQLz"
      },
      "source": [
        "### Test 2: Batches\n",
        "\n",
        "Check that all batches generated by the training set data loader have the batch size of $B$ -- except for the last batch, which you need to compute by yourself (you might want to make use of the modulo operator `%`).\n",
        "\n",
        "Afterward, we check that all inputs and targets are of type `torch.Tensor`, that all input values are in range $[0,1]$ and that all target values are in range $[0,9]$."
      ]
    },
    {
      "cell_type": "code",
      "execution_count": 5,
      "metadata": {
        "id": "XQ-wtDlPaQL0"
      },
      "outputs": [],
      "source": [
        "# compute the size of last batch\n",
        "last_batch = len(trainset) % B\n",
        "\n",
        "for x,t in trainloader:\n",
        "  # check datatype, size and content of x\n",
        "  assert isinstance(x, torch.Tensor)\n",
        "  assert(torch.all(x >= 0)) and torch.all(x <= 1)  \n",
        "  assert len(x)==B or len(x) == last_batch\n",
        "\n",
        "  # check datatype, size and content of t\n",
        "  assert isinstance(t, torch.Tensor)\n",
        "  assert(torch.all(t >= 0)) and torch.all(t <= 9)\n",
        "  assert len(t)==B or len(t) == last_batch"
      ]
    },
    {
      "cell_type": "markdown",
      "metadata": {
        "id": "HCcVzXbiaQL0"
      },
      "source": [
        "## Networks\n",
        "As last week, we will rely on [Sequential](https://pytorch.org/docs/stable/generated/torch.nn.Sequential.html) to create networks with particular lists of consecutive layers.\n",
        "Particularly, we will investigate two different versions of networks, one fully-connected network and one convolutional network, with the same number of learnable layers.\n",
        "\n",
        "### Task 3: Fully-Connected Network\n",
        "\n",
        "\n",
        "Implement a function that returns a three-layer fully-connected network in `pytorch`.\n",
        "Use $\\tanh$ as activation function between the two fully-connected layers, and provide the possibility to change the number of inputs $D$, the number of hidden neurons $K$ and the number of outputs $O$.\n",
        "Use the following layers:\n",
        "\n",
        "1. A [Flatten layer](https://pytorch.org/docs/stable/generated/torch.nn.Flatten.html) to turn the $28\\times28$ pixel image (2D) into a $28\\cdot28$ pixel vector (1D).\n",
        "2. A [fully-connected layer](https://pytorch.org/docs/stable/generated/torch.nn.Linear.html) with D input neurons and K outputs.\n",
        "3. A [$\\tanh$ activation function](https://pytorch.org/docs/stable/generated/torch.nn.Tanh.html).\n",
        "4. A fully-connected layer with K input neurons and K outputs.\n",
        "5. A $\\tanh$ activation function.\n",
        "6. A fully-connected layer with K input neurons and O outputs."
      ]
    },
    {
      "cell_type": "code",
      "execution_count": 20,
      "metadata": {
        "id": "kUllttuBaQL0"
      },
      "outputs": [],
      "source": [
        "def fully_connected(D, K, O):\n",
        "    return torch.nn.Sequential(\n",
        "        torch.nn.Flatten(start_dim=1, end_dim=-1),\n",
        "        torch.nn.Linear(in_features=D, out_features=K, bias=True),\n",
        "        torch.nn.Tanh(),\n",
        "        torch.nn.Linear(in_features=K, out_features=K, bias=True),\n",
        "        torch.nn.Tanh(),\n",
        "        torch.nn.Linear(in_features=K, out_features=O, bias=True),\n",
        "    )\n"
      ]
    },
    {
      "cell_type": "markdown",
      "metadata": {
        "id": "_nL0shNEaQL1"
      },
      "source": [
        "### Task 4: Convolutions Output (theoretical question)\n",
        "\n",
        "Consider the network as defined in Task 5.\n",
        "Assume that the input is a $28\\times28$ grayscale image.\n",
        "How many hidden neurons do we need in the final fully-connected layer for a given number $Q_2$ of output channels of the second convolution?\n",
        "\n",
        "We get a picture of 28x28 and we have to give a padding that the matrix will be 32x32. After filtering with stride 1 and 5x5 filter we get the 28x28 matrix. With the kernel size of 2x2 and a stride of 2 we receive a maximum pooling of 14x14. Now we do the same again with Q2 x Q1 x 5 x 5 and after that we get a 7x7 matrix. By flatting it we get 49 values and therefore we need k=49xQ2 hidden neurons."
      ]
    },
    {
      "cell_type": "markdown",
      "metadata": {
        "id": "OkWbJWGbaQL1"
      },
      "source": [
        "### Task 5: Convolutional Network\n",
        "\n",
        "Implement a function that generates a convolutional network with the following layers:\n",
        "\n",
        "1. A [2D convolutional layer](https://pytorch.org/docs/stable/generated/torch.nn.Conv2d.html) with $Q_1$ channels, kernel size $5\\times5$, stride 1 and padding 2.\n",
        "2. A [2D maximum pooling](https://pytorch.org/docs/stable/generated/torch.nn.MaxPool2d.html) with pooling size $2\\times2$ and stride 2.\n",
        "3. A $\\tanh$ activation function.\n",
        "4. A 2D convolutional layer with $Q_2$ channels, kernel size $5\\times5$, stride 1 and padding 2.\n",
        "5. A 2D maximum pooling with pooling size $2\\times2$ and stride 2.\n",
        "6. A $\\tanh$ activation function.\n",
        "7. A flattening layer to turn the 3D feature map into a 1D vector.\n",
        "8. A fully-connected layer with the appropriate number of inputs and $O$ outputs."
      ]
    },
    {
      "cell_type": "code",
      "execution_count": 24,
      "metadata": {
        "id": "mS9cuYsSaQL1"
      },
      "outputs": [],
      "source": [
        "import torch\n",
        "import torch.nn as nn\n",
        "import torch.nn.functional as F\n",
        "\n",
        "class convolutional(nn.Module):\n",
        "    def __init__(self, Q1, Q2, O):\n",
        "        super(convolutional, self).__init__()\n",
        "        self.conv1 = nn.Conv2d(in_channels=1, out_channels=Q1, kernel_size=5, stride=1, padding=2)\n",
        "        self.pool = nn.MaxPool2d(kernel_size=2, stride=2)\n",
        "        self.conv2 = nn.Conv2d(in_channels=Q1, out_channels=Q2, kernel_size=5, stride=1, padding=2)\n",
        "        self.fc = nn.Linear(Q2 * 7 * 7, O)\n",
        "\n",
        "    def forward(self, x):\n",
        "        z = self.pool(F.relu(self.conv1(x)))\n",
        "        z = self.pool(F.relu(self.conv2(z)))\n",
        "        z = z.view(-1, self.fc.in_features)\n",
        "        z = self.fc(z)\n",
        "        return z\n"
      ]
    },
    {
      "cell_type": "markdown",
      "metadata": {
        "id": "6IL7ji_qaQL2"
      },
      "source": [
        "## Network Training\n",
        "For training and evaluating the network, we rely on standard functionality in PyTorch.\n",
        "We use the standard [categorical cross-entropy loss](https://pytorch.org/docs/stable/nn.html#loss-functions) together with a [stochastic gradient descent](https://pytorch.org/docs/stable/generated/torch.optim.SGD.html) optimizer.\n",
        "For training, we use the batched implementation of the dataset, for which we perform one update step for each training batch.\n",
        "After having gone through the full training dataset, we compute accuracy and loss values for the testing set (we simply make use of the testing set for validation).\n",
        "\n",
        "\n",
        "### Task 6: Training and Validation Loop\n",
        "\n",
        "Implement a function that takes the network, the number of epochs, and the learning rate.\n",
        "Select the correct loss function for categorical classification and SGD optimizer.\n",
        "Iterate the following steps for the given number of epochs:\n",
        "\n",
        "1. Train the network with all batches of the training data.\n",
        "2. Compute the testing set loss and testing set accuracy.\n",
        "3. Store both in a vector.\n",
        "\n",
        "What do we need to take care of?\n",
        "\n",
        "Finally, return the lists of validation losses and accuracies."
      ]
    },
    {
      "cell_type": "code",
      "execution_count": 25,
      "metadata": {
        "id": "I8q12fyYaQL2"
      },
      "outputs": [],
      "source": [
        "def train(network, epochs, eta, momentum):\n",
        "    # select loss function and optimizer\n",
        "    loss = torch.nn.CrossEntropyLoss()\n",
        "    optimizer = torch.optim.SGD(params=network.parameters(), lr=eta, momentum=momentum)\n",
        "\n",
        "    # instantiate the correct device\n",
        "    device = torch.device(\"cuda\" if torch.cuda.is_available() else \"cpu\")\n",
        "    network = network.to(device)\n",
        "\n",
        "    # collect loss values and accuracies over the training epochs\n",
        "    val_loss, val_acc = [], []\n",
        "\n",
        "    for epoch in range(epochs):\n",
        "        # train network on training data\n",
        "        for x, t in trainloader:\n",
        "            # put data to device\n",
        "            x, t = x.to(device), t.to(device)\n",
        "            optimizer.zero_grad()\n",
        "\n",
        "            # train\n",
        "            z = network(x)\n",
        "            J = loss(z, t)\n",
        "            J.backward()\n",
        "            optimizer.step()\n",
        "\n",
        "        # test network on test data\n",
        "        with torch.no_grad():\n",
        "            correct = 0\n",
        "            for x, t in testloader:\n",
        "                # put data to device\n",
        "                x, t = x.to(device), t.to(device)\n",
        "\n",
        "                # compute validation loss\n",
        "                z = network(x)\n",
        "                J = loss(z, t)\n",
        "\n",
        "                # compute validation accuracy\n",
        "                correct += torch.sum(torch.argmax(z, dim=1) == t).item()\n",
        "            acc = correct / len(testset)\n",
        "            val_loss.append(J)\n",
        "            val_acc.append(acc)\n",
        "\n",
        "    # return loss and accuracy values\n",
        "    return val_loss, val_acc\n"
      ]
    },
    {
      "cell_type": "markdown",
      "metadata": {
        "id": "tEssOE_PaQL2"
      },
      "source": [
        "### Task 7: Fully-Connected Training\n",
        "\n",
        "Create a fully-connected network with $K=100$ hidden and $O=10$ output neurons.\n",
        "Train the network for 10 epochs with $\\eta=0.01$, $momentum=0.9$ and store the obtained test losses and accuracies.\n",
        "Brave people can also train for 100 epochs (which will take up to 30 minutes)."
      ]
    },
    {
      "cell_type": "code",
      "execution_count": 26,
      "metadata": {
        "id": "EjW7zpuvaQL2"
      },
      "outputs": [],
      "source": [
        "fc = fully_connected(28*28, 100, 10)\n",
        "fc_loss, fc_acc = train(fc, 10, 0.01, 0.9)"
      ]
    },
    {
      "cell_type": "markdown",
      "metadata": {
        "id": "eGW5qI6naQL3"
      },
      "source": [
        "### Task 8: Convolutional Training\n",
        "\n",
        "\n",
        "Create a convolutional network with $Q_1=16$ and $Q_2=32$ convolutional channels and $O=10$ output neurons.\n",
        "Train the network for 10 epochs with $\\eta=0.01$, momentum $=0.9$ and store the obtained test losses and accuracies.\n",
        "Again, 100 epochs will take up to 30 minutes."
      ]
    },
    {
      "cell_type": "code",
      "execution_count": 27,
      "metadata": {
        "id": "4hQSxjIEaQL3"
      },
      "outputs": [],
      "source": [
        "cv = convolutional(16, 32, 10)\n",
        "cv_loss, cv_acc = train(cv, 10, 0.01, 0.9)"
      ]
    },
    {
      "cell_type": "markdown",
      "metadata": {
        "id": "R2lhQiuyaQL3"
      },
      "source": [
        "### Task 9: Plotting\n",
        "\n",
        "Plot the two lists of loss values in one plot. Plot the two lists of accuracy values into another plot."
      ]
    },
    {
      "cell_type": "code",
      "execution_count": 33,
      "metadata": {
        "id": "8SMsfktXaQL3",
        "colab": {
          "base_uri": "https://localhost:8080/",
          "height": 328
        },
        "outputId": "fd6850a1-1c45-4b09-f3a5-8f517f9a7d90"
      },
      "outputs": [
        {
          "output_type": "execute_result",
          "data": {
            "text/plain": [
              "<matplotlib.legend.Legend at 0x7f0560a3e9a0>"
            ]
          },
          "metadata": {},
          "execution_count": 33
        },
        {
          "output_type": "display_data",
          "data": {
            "text/plain": [
              "<Figure size 1000x300 with 2 Axes>"
            ],
            "image/png": "[encoded data removed]"
          },
          "metadata": {}
        }
      ],
      "source": [
        "from matplotlib import pyplot\n",
        "pyplot.figure(figsize=(10,3))\n",
        "ax = pyplot.subplot(121)\n",
        "# plot loss values of FC and CV network over epochs\n",
        "ax.plot(torch.tensor(fc_loss).cpu(), \"g-\", label=\"Fully-connected loss\")\n",
        "ax.plot(torch.tensor(cv_loss).cpu(), \"b-\", label=\"Convolutional loss\")\n",
        "ax.set_xlabel(\"Epoch\")\n",
        "ax.legend()\n",
        "\n",
        "ax = pyplot.subplot(122)\n",
        "# plot accuracy values of FC and CV network over epochs\n",
        "ax.plot(torch.tensor(fc_acc).cpu(), \"g-\", label=\"Fully-connected accuracy\")\n",
        "ax.plot(torch.tensor(cv_acc).cpu(), \"b-\", label=\"Convolutional accuracy\")\n",
        "ax.set_xlabel(\"Epoch\")\n",
        "ax.legend()\n"
      ]
    },
    {
      "cell_type": "markdown",
      "metadata": {
        "id": "vua5OAWnaQL3"
      },
      "source": [
        "### Task 10: Learnable Parameters \n",
        "\n",
        "Estimate roughly how many learnable parameters the two networks have by analytically computing and adding the number of parameters in each layer.\n",
        "\n",
        "Fully-connected Network:\n",
        "- first fully-connected layer: ...\n",
        "- second fully-connected layer: ...\n",
        "- third fully-connected layer: ...\n",
        "- total: ...\n",
        "\n",
        "Convolutional Network:\n",
        "- first convolutional layer: ...\n",
        "- second convolutional layer: ...\n",
        "- fully-connected layer: ...\n",
        "- total: ...\n",
        "\n",
        "\n",
        "\n",
        "Now, compute the number of parameters in the networks by summing the number of parameters in each layer using `pytorch` functionality.\n",
        "You can use the `numel()` function from a `torch.Tensor` to provide the number of (learnable) parameters stored in a tensor.\n",
        "How do you obtain this list of all learnable parameters from a `pytorch` [Module](https://pytorch.org/docs/stable/generated/torch.nn.Module.html)?"
      ]
    },
    {
      "cell_type": "code",
      "execution_count": 32,
      "metadata": {
        "id": "aC_ZOtKUaQL4",
        "colab": {
          "base_uri": "https://localhost:8080/"
        },
        "outputId": "96b9ca1b-44dc-4f37-f953-f39adb8b66cd"
      },
      "outputs": [
        {
          "output_type": "stream",
          "name": "stdout",
          "text": [
            "Fully-connected Network: 89610\n",
            "Convolutional Network: 28938\n"
          ]
        }
      ],
      "source": [
        "def parameter_count(network):\n",
        "  return sum(p.numel() for p in network.parameters())\n",
        "\n",
        "print(\"Fully-connected Network:\", parameter_count(fc))\n",
        "print(\"Convolutional Network:\", parameter_count(cv))"
      ]
    }
  ],
  "metadata": {
    "accelerator": "GPU",
    "colab": {
      "provenance": []
    },
    "gpuClass": "standard",
    "interpreter": {
      "hash": "2dd53f8ad749bca69f7250ce75eb4f0def59db5cf79075a9716322ffc58e8a2e"
    },
    "kernelspec": {
      "display_name": "Python 3.8.10 ('DL')",
      "language": "python",
      "name": "python3"
    },
    "language_info": {
      "codemirror_mode": {
        "name": "ipython",
        "version": 3
      },
      "file_extension": ".py",
      "mimetype": "text/x-python",
      "name": "python",
      "nbconvert_exporter": "python",
      "pygments_lexer": "ipython3",
      "version": "3.8.13"
    },
    "orig_nbformat": 4
  },
  "nbformat": 4,
  "nbformat_minor": 0
}